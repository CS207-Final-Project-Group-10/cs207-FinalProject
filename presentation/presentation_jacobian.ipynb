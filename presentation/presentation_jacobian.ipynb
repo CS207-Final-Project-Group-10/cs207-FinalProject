{
 "cells": [
  {
   "cell_type": "code",
   "execution_count": 4,
   "metadata": {},
   "outputs": [],
   "source": [
    "import fluxions as fl"
   ]
  },
  {
   "cell_type": "markdown",
   "metadata": {},
   "source": [
    "# fl.jacobian\n",
    "- Though implemented as a *function* rather than a *class*, `jacobian` was designed to maintain the Fluxion API\n",
    "\n",
    "  1. To compute the Jacobian of `F` with respect to `v`, evaluated at value(s) given by `v_mapping`: \n",
    "   \n",
    "   <pre>\n",
    "   jacobian(F, v, v_mapping)\n",
    "   </pre>\n",
    "   \n",
    "  2. `jacobian` will always return a numpy array"
   ]
  },
  {
   "cell_type": "markdown",
   "metadata": {},
   "source": [
    "***\n",
    "\n",
    "### Example 1: \n",
    "function from $\\mathbb{R^1} \\rightarrow \\mathbb{R^1}$: same as derivative (and returns scalar)\n",
    "\n",
    "$$\n",
    "\\begin{aligned}\n",
    "F(y) &= ylog(y) \\\\ \n",
    "\\Rightarrow J_F(y) &= log(y) + 1 \\\\\n",
    "\\Rightarrow J_F(1) &= 1\n",
    "\\end{aligned}\n",
    "$$"
   ]
  },
  {
   "cell_type": "code",
   "execution_count": 15,
   "metadata": {},
   "outputs": [
    {
     "data": {
      "text/plain": [
       "array([[1.]])"
      ]
     },
     "metadata": {},
     "output_type": "display_data"
    },
    {
     "data": {
      "text/plain": [
       "array([[1.]])"
      ]
     },
     "metadata": {},
     "output_type": "display_data"
    }
   ],
   "source": [
    "y = fl.Var('y')\n",
    "log_y = fl.log(y)\n",
    "f = y*log_y\n",
    "\n",
    "display(\n",
    "    f.diff({'y':1})\n",
    ")\n",
    "\n",
    "# Jacobian of a scalar function from R^1 -> R^1\n",
    "display(\n",
    "    fl.jacobian(f, ['y'], {'y':1})\n",
    ")"
   ]
  },
  {
   "cell_type": "markdown",
   "metadata": {},
   "source": [
    "***\n",
    "\n",
    "### Example 2: \n",
    "If F is a function from $\\mathbb{R^m} \\rightarrow \\mathbb{R^n}$, then `jacobian` returns an m:n array if `v_mapping` contains scalar variable mappings\n",
    "\n",
    "   \n",
    "$$\n",
    "\\begin{aligned}\n",
    "F(x,y) &= \\begin{bmatrix} x^2 \\\\ x ln(y) \\end{bmatrix} \\\\ \\\\\n",
    "\\Rightarrow J_F(x,y) &= \\begin{bmatrix}\n",
    "2x & x^2 \\\\\n",
    "ln(y) & x/y\n",
    "\\end{bmatrix} \\\\ \\\\\n",
    "\\Rightarrow J_F(2,1) &= \\begin{bmatrix}\n",
    "4 & 0 \\\\ \n",
    "0 & 2\n",
    "\\end{bmatrix}\n",
    "\\end{aligned}\n",
    "$$"
   ]
  },
  {
   "cell_type": "code",
   "execution_count": 8,
   "metadata": {},
   "outputs": [
    {
     "data": {
      "text/plain": [
       "array([[4., 0.],\n",
       "       [0., 2.]])"
      ]
     },
     "execution_count": 8,
     "metadata": {},
     "output_type": "execute_result"
    }
   ],
   "source": [
    "x = fl.Var('x')\n",
    "\n",
    "# Jacobian of a vector-valued function\n",
    "fl.jacobian([x**2, x*log_y], ['x','y'], {'x':2, 'y':1})"
   ]
  },
  {
   "cell_type": "markdown",
   "metadata": {},
   "source": [
    "***\n",
    "\n",
    "### Example 3:\n",
    "`jacobian` handles tensors: if variables `v` mapped to vectors of length T, then `jacobian` returns an **m : n : T** array"
   ]
  },
  {
   "cell_type": "code",
   "execution_count": 9,
   "metadata": {},
   "outputs": [
    {
     "data": {
      "text/plain": [
       "(2, 3, 10)"
      ]
     },
     "execution_count": 9,
     "metadata": {},
     "output_type": "execute_result"
    }
   ],
   "source": [
    "# Jacobian of a 3:2:10 function\n",
    "J = fl.jacobian([x**2, x*log_y, x+y], ['x','y'], {'x':np.linspace(1,10,10), 'y':np.logspace(1,10,10)})\n",
    "J.shape"
   ]
  },
  {
   "cell_type": "markdown",
   "metadata": {},
   "source": [
    "---\n",
    "\n",
    "## Behind the scenes:\n",
    "\n",
    "- Blindly pass dict of variable bindings down the computation tree, and know an array of partials will be returned"
   ]
  },
  {
   "cell_type": "code",
   "execution_count": 14,
   "metadata": {},
   "outputs": [
    {
     "data": {
      "text/plain": [
       "array([[6., 3., 2.]])"
      ]
     },
     "metadata": {},
     "output_type": "display_data"
    },
    {
     "data": {
      "text/plain": [
       "array([[0., 4., 0.]])"
      ]
     },
     "metadata": {},
     "output_type": "display_data"
    }
   ],
   "source": [
    "F = [x*y*z, y**2]\n",
    "f1 = x*y*z\n",
    "f2 = y**2\n",
    "\n",
    "seed = {'x':1, 'y':1, 'z':1}\n",
    "v_mapping = {'x':1, 'y':2, 'z':3}\n",
    "\n",
    "display(\n",
    "    f1.diff(v_mapping, seed)\n",
    ")\n",
    "display(\n",
    "    f2.diff(v_mapping, seed)\n",
    ")"
   ]
  }
 ],
 "metadata": {
  "kernelspec": {
   "display_name": "Python 3",
   "language": "python",
   "name": "python3"
  },
  "language_info": {
   "codemirror_mode": {
    "name": "ipython",
    "version": 3
   },
   "file_extension": ".py",
   "mimetype": "text/x-python",
   "name": "python",
   "nbconvert_exporter": "python",
   "pygments_lexer": "ipython3",
   "version": "3.6.5"
  },
  "varInspector": {
   "cols": {
    "lenName": 16,
    "lenType": 16,
    "lenVar": 40
   },
   "kernels_config": {
    "python": {
     "delete_cmd_postfix": "",
     "delete_cmd_prefix": "del ",
     "library": "var_list.py",
     "varRefreshCmd": "print(var_dic_list())"
    },
    "r": {
     "delete_cmd_postfix": ") ",
     "delete_cmd_prefix": "rm(",
     "library": "var_list.r",
     "varRefreshCmd": "cat(var_dic_list()) "
    }
   },
   "types_to_exclude": [
    "module",
    "function",
    "builtin_function_or_method",
    "instance",
    "_Feature"
   ],
   "window_display": false
  }
 },
 "nbformat": 4,
 "nbformat_minor": 2
}
